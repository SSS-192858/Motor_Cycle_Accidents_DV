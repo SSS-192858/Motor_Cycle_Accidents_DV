{
 "cells": [
  {
   "cell_type": "markdown",
   "metadata": {},
   "source": [
    "This shall contain the codes related to time based analysis for the city(borough wise too).\n",
    "\n",
    "We first segregate the accidents day-time wise and then we plot the pie chart based on the number of accidents. We then also try to segregate them based on the fatality of the accidents and form an inference from it."
   ]
  },
  {
   "cell_type": "code",
   "execution_count": null,
   "metadata": {},
   "outputs": [],
   "source": [
    "import pandas as pd\n",
    "import numpy as np\n",
    "import matplotlib.pyplot as plt\n",
    "from datetime import time\n"
   ]
  },
  {
   "cell_type": "code",
   "execution_count": null,
   "metadata": {},
   "outputs": [],
   "source": [
    "df = pd.read_csv(\"Dataset5.csv\")\n",
    "df.drop(columns=['CONTRIBUTING FACTOR VEHICLE 3', 'CONTRIBUTING FACTOR VEHICLE 4', 'CONTRIBUTING FACTOR VEHICLE 5', 'VEHICLE TYPE CODE 3', 'VEHICLE TYPE CODE 4', 'VEHICLE TYPE CODE 5'], inplace=True)\n",
    "df.dropna(subset=['BOROUGH'], inplace=True)\n",
    "df.dropna(subset=['LATITUDE', 'LONGITUDE'], inplace=True)\n",
    "df = df[df['LATITUDE']!=0]\n",
    "df = df[df['LONGITUDE']!=0]"
   ]
  },
  {
   "cell_type": "code",
   "execution_count": null,
   "metadata": {},
   "outputs": [],
   "source": [
    "time1 = time(6,00,00)\n",
    "time2 = time(12,00,00)\n",
    "time3 = time(16,30,00)\n",
    "time4 = time(22,00,00)\n",
    "\n",
    "def custom_time_func(row,time1,time2,time3,time4):\n",
    "    if row['CRASH TIME']>=str(time4) or row['CRASH TIME']<str(time1):\n",
    "        return \"MID NIGHT\"\n",
    "    elif row['CRASH TIME']>=str(time1) and row['CRASH TIME']<str(time2):\n",
    "        return \"MORNING\"\n",
    "    elif row['CRASH TIME']>=str(time2) and row['CRASH TIME']<str(time3):\n",
    "        return \"AFTERNOON\"\n",
    "    elif row['CRASH TIME']>= str(time3) and row['CRASH TIME']<str(time4):\n",
    "        return \"NIGHT\""
   ]
  },
  {
   "cell_type": "code",
   "execution_count": null,
   "metadata": {},
   "outputs": [],
   "source": [
    "def plot_pie_chart(df,title):\n",
    "    plt.pie(df,labels = df.index,\n",
    "                    autopct = '%1.1f%%',shadow = True,\n",
    "                    startangle = 0,\n",
    "                    wedgeprops = {\"edgecolor\":\"black\",\n",
    "                            'linewidth': 2,\n",
    "                            'antialiased': True})\n",
    "    plt.axis('equal')  \n",
    "    plt.title(title)\n"
   ]
  },
  {
   "cell_type": "code",
   "execution_count": null,
   "metadata": {},
   "outputs": [],
   "source": [
    "df1 = df\n",
    "df1['CRASH_DAYTIME'] = df1.apply(custom_time_func,args=(time1,time2,time3,time4),axis=1)\n",
    "df2 = df1.groupby('CRASH_DAYTIME')\n",
    "df3 = df2.size()\n",
    "plot_pie_chart(df3,\"Total Accidents in New York City\")\n",
    "plt.show()\n",
    "\n",
    "df5 = df1.groupby(by='CRASH_DAYTIME')['NUMBER OF PERSONS KILLED'].sum()\n",
    "df5 = pd.Series(df5)\n",
    "plot_pie_chart(df5,\"Total deaths in accidents in New York City \")\n",
    "plt.show()\n",
    "\n",
    "df5 = df1.groupby(by='CRASH_DAYTIME')['NUMBER OF PERSONS INJURED'].sum()\n",
    "df5 = pd.Series(df5)\n",
    "plot_pie_chart(df5,\"Total injuries in accidents in New York City\")\n",
    "plt.show()\n",
    "\n"
   ]
  },
  {
   "cell_type": "code",
   "execution_count": null,
   "metadata": {},
   "outputs": [],
   "source": [
    "groups = df.groupby(by=['BOROUGH'])\n",
    "\n",
    "plt.rcParams['figure.figsize'] = (30,15)\n",
    "plt.rcParams.update({'font.size': 15})\n",
    "\n",
    "val1=1\n",
    "val2=1\n",
    "val3=1\n",
    "for name, group in groups:\n",
    "        print(name)\n",
    "        group['CRASH_DAYTIME'] = group.apply(custom_time_func,args=(time1,time2,time3,time4),axis=1)\n",
    "        df3 = group.groupby('CRASH_DAYTIME')\n",
    "        df4 = df3.size()\n",
    "        plt.subplot(2,3,val1)\n",
    "        plot_pie_chart(df4,\"Total accidents in \"+name)\n",
    "        val1+=1\n",
    "plt.show()\n",
    "for name, group in groups:\n",
    "        group['CRASH_DAYTIME'] = group.apply(custom_time_func,args=(time1,time2,time3,time4),axis=1)\n",
    "        df3 = group.groupby('CRASH_DAYTIME')\n",
    "        df5 = group.groupby(by='CRASH_DAYTIME')['NUMBER OF PERSONS KILLED'].sum()\n",
    "        df5 = pd.Series(df5)\n",
    "        plt.subplot(2,3,val2)\n",
    "        plot_pie_chart(df5,\"Total Fatalities in accidents in \"+name)\n",
    "        val2+=1\n",
    "plt.show()\n",
    "for name, group in groups:\n",
    "        group['CRASH_DAYTIME'] = group.apply(custom_time_func,args=(time1,time2,time3,time4),axis=1)\n",
    "        df5 = group.groupby(by='CRASH_DAYTIME')['NUMBER OF PERSONS INJURED'].sum()\n",
    "        df5 = pd.Series(df5)\n",
    "        plt.subplot(2,3,val3)\n",
    "        plot_pie_chart(df5,\"Total Injuries in accidents in \"+name)\n",
    "        val3+=1\n",
    "plt.show()       \n"
   ]
  }
 ],
 "metadata": {
  "kernelspec": {
   "display_name": "base",
   "language": "python",
   "name": "python3"
  },
  "language_info": {
   "codemirror_mode": {
    "name": "ipython",
    "version": 3
   },
   "file_extension": ".py",
   "mimetype": "text/x-python",
   "name": "python",
   "nbconvert_exporter": "python",
   "pygments_lexer": "ipython3",
   "version": "3.11.3"
  },
  "orig_nbformat": 4
 },
 "nbformat": 4,
 "nbformat_minor": 2
}
