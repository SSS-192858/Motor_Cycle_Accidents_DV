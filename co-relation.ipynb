{
 "cells": [
  {
   "cell_type": "code",
   "execution_count": null,
   "metadata": {},
   "outputs": [],
   "source": [
    "import pandas as pd\n",
    "import numpy as np\n",
    "import matplotlib.pyplot as plt\n",
    "\n",
    "\n",
    "df = pd.read_csv('Dataset5.csv')\n",
    "df.drop(columns=['CONTRIBUTING FACTOR VEHICLE 3', 'CONTRIBUTING FACTOR VEHICLE 4', 'CONTRIBUTING FACTOR VEHICLE 5', 'VEHICLE TYPE CODE 3', 'VEHICLE TYPE CODE 4', 'VEHICLE TYPE CODE 5'], inplace=True)\n",
    "df.dropna(subset=['LATITUDE', 'LONGITUDE','LOCATION'],inplace=True)\n",
    "df = df[df['LATITUDE']!=0]\n",
    "df = df[df['LONGITUDE']!=0]\n",
    "for col in df.columns:\n",
    "    print(col)\n",
    "\n",
    "# df['NUMBER OF PERSONS KILLED']\n",
    "# df['TOTAL DEATHS'] = df['NUMBER OF PEDESTRIANS KILLED']+df['NUMBER OF CYCLIST KILLED']+df['NUMBER OF MOTORIST KILLED']"
   ]
  },
  {
   "cell_type": "code",
   "execution_count": null,
   "metadata": {},
   "outputs": [],
   "source": [
    "groupingDictionary = {\n",
    "    \"Distraction\" : [\"Driver Inattention/Distraction\", \"Outside Car Distraction\", \"Passenger Distraction\", \"Glare\", \"Cell Phone (hand-held)\", \"Cell Phone (hands-free)\", \"Other Electronic Device\"], \n",
    "    \"Car Defects\" : [\"Accelerator Defective\", \"Brakes Defective\", \"Headlights Defective\", \"Other Lighting Defects\", \"Steering Failure\", \"Tire Failure/Inadequate\", \"Tow Hitch Defective\", \"Windshield Inadequate\"],\n",
    "    \"Substance Abuse\" : [\"Alcohol Involvement\", \"Drugs (Illegal)\", \"Prescription Medication\"],\n",
    "    \"Driver not at fault\" : [\"Animals Action\", \"Lane Marking Improper/Inadequate\", \"Obstruction/Debris\", \"Other Vehicular\", \"Pavement Defective\", \"Pavement Slippery\", \"Pedestrian/Bicyclist/Other Pedestrian Error/Confusion\", \"Reaction to Other Uninvolved Vehicle\", \"Shoulders Defective/Improper\", \"Traffic Control Device Improper/Non-Working\", \"View Obstructed/Limited\"], \n",
    "    \"Driver Inexperience\" : [\"Driver Inexperience\"], \n",
    "    \"Medical/Fatigue\" : [\"Fatigued/Drowsy\", \"Fell Asleep\", \"Illness\", \"Lost Consciousness\", \"Physical Disability\"], \n",
    "    \"Traffic Rule Violation\" : [\"Aggressive Driving/Road Rage\", \"Backing Unsafely\", \"Failure to Keep Right\", \"Failure to Yield Right-of-Way\", \"Following Too Closely\", \"Oversized Vehicle\", \"Passing Too Closely\", \"Passing or Lane Usage Improper\", \"Traffic Control Disregarded\", \"Turning Improperly\", \"Unsafe Lane Changing\", \"Unsafe Speed\"]\n",
    "}"
   ]
  },
  {
   "cell_type": "code",
   "execution_count": null,
   "metadata": {},
   "outputs": [],
   "source": [
    "df = df[df['CONTRIBUTING FACTOR VEHICLE 1']!=\"Unspecified\"]"
   ]
  },
  {
   "cell_type": "code",
   "execution_count": null,
   "metadata": {},
   "outputs": [],
   "source": [
    "def custom_acc_type(row):\n",
    "    for j in groupingDictionary.keys():\n",
    "       if row['CONTRIBUTING FACTOR VEHICLE 1'] in groupingDictionary[j]:\n",
    "           return j"
   ]
  },
  {
   "cell_type": "code",
   "execution_count": null,
   "metadata": {},
   "outputs": [],
   "source": [
    "df['MAJOR ACCIDENT TYPE 1'] = df.apply(custom_acc_type,axis=1)\n",
    "\n",
    "df2 = df.groupby(by='MAJOR ACCIDENT TYPE 1')['NUMBER OF PERSONS KILLED'].sum()\n",
    "df3 = df.groupby(by='MAJOR ACCIDENT TYPE 1')['NUMBER OF PERSONS INJURED'].sum()\n",
    "\n",
    "valDict  ={}\n",
    "df2.plot.bar()\n",
    "plt.title(\"Deaths vs Reason of Accident\")\n",
    "plt.show()\n"
   ]
  },
  {
   "cell_type": "code",
   "execution_count": null,
   "metadata": {},
   "outputs": [],
   "source": [
    "df3.plot.bar()\n",
    "\n",
    "plt.title(\"Injuries vs Reason of accidents\")\n",
    "plt.show()\n"
   ]
  }
 ],
 "metadata": {
  "kernelspec": {
   "display_name": "base",
   "language": "python",
   "name": "python3"
  },
  "language_info": {
   "codemirror_mode": {
    "name": "ipython",
    "version": 3
   },
   "file_extension": ".py",
   "mimetype": "text/x-python",
   "name": "python",
   "nbconvert_exporter": "python",
   "pygments_lexer": "ipython3",
   "version": "3.10.9"
  },
  "orig_nbformat": 4
 },
 "nbformat": 4,
 "nbformat_minor": 2
}
