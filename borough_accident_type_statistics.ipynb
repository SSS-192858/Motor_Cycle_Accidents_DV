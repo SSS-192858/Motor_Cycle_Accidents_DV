{
 "cells": [
  {
   "cell_type": "code",
   "execution_count": null,
   "metadata": {},
   "outputs": [],
   "source": [
    "import pandas as pd\n",
    "import matplotlib.pyplot as plt\n",
    "plt.rcParams['figure.figsize']=[30,15]"
   ]
  },
  {
   "cell_type": "code",
   "execution_count": null,
   "metadata": {},
   "outputs": [],
   "source": [
    "df = pd.read_csv(\"Dataset1.csv\")"
   ]
  },
  {
   "cell_type": "code",
   "execution_count": null,
   "metadata": {},
   "outputs": [],
   "source": [
    "df.drop(columns=['CONTRIBUTING FACTOR VEHICLE 3', 'CONTRIBUTING FACTOR VEHICLE 4', 'CONTRIBUTING FACTOR VEHICLE 5', 'VEHICLE TYPE CODE 3', 'VEHICLE TYPE CODE 4', 'VEHICLE TYPE CODE 5'], inplace=True)\n",
    "df.dropna(subset=['LATITUDE', 'LONGITUDE'], inplace=True)\n",
    "df.dropna(subset=['BOROUGH'], inplace=True)\n",
    "df = df[df['LATITUDE']!=0]\n",
    "df = df[df['LONGITUDE']!=0]"
   ]
  },
  {
   "cell_type": "code",
   "execution_count": null,
   "metadata": {},
   "outputs": [],
   "source": [
    "df1 = df[df['CONTRIBUTING FACTOR VEHICLE 1'] != \"Unspecified\"]\n",
    "df1 = df1.sort_values(by=['CONTRIBUTING FACTOR VEHICLE 1'])\n",
    "df_temp1 = df1.groupby(by=['CONTRIBUTING FACTOR VEHICLE 1'])\n",
    "s3 = df_temp1.size()\n",
    "\n",
    "df2 = df[df['CONTRIBUTING FACTOR VEHICLE 2'] != \"Unspecified\"]\n",
    "df2 = df2.sort_values(by=['CONTRIBUTING FACTOR VEHICLE 2'])\n",
    "df_temp2 = df2.groupby(by=['CONTRIBUTING FACTOR VEHICLE 2'])\n",
    "s4 = df_temp2.size()\n",
    "\n",
    "df_equal = df[df['CONTRIBUTING FACTOR VEHICLE 1'] == df['CONTRIBUTING FACTOR VEHICLE 2']]\n",
    "df_equal = df_equal[df_equal['CONTRIBUTING FACTOR VEHICLE 1'] != \"Unspecified\"]\n",
    "df_equal = df_equal.sort_values(by=['CONTRIBUTING FACTOR VEHICLE 1'])\n",
    "df_equal_temp = df_equal.groupby(by=['CONTRIBUTING FACTOR VEHICLE 1'])\n",
    "s5 = df_equal_temp.size()"
   ]
  },
  {
   "cell_type": "code",
   "execution_count": null,
   "metadata": {},
   "outputs": [],
   "source": [
    "s_total_ = s3.add(s4, fill_value=0)\n",
    "s_total = s_total_.sub(s5, fill_value=0)\n",
    "bars = s_total.index\n",
    "x_pos = range(len(s_total))\n",
    "plt.bar(x_pos, s_total.values, width=0.8)\n",
    "plt.xlabel(\"Cause of accident\", fontsize=15)\n",
    "plt.ylabel(\"Accidents\", fontsize=15)\n",
    "plt.title(\"Accidents by type in New York City\", fontsize=15)\n",
    "plt.xticks(x_pos, bars, rotation = 85, fontsize=15)\n",
    "plt.yticks(fontsize=15)\n",
    "for i in range(len(s3)):\n",
    "    plt.text(i, s_total.astype('int32')[i], s_total.astype('int32')[i], ha='center', bbox = dict(facecolor = 'white', alpha =.8), fontsize=15)\n",
    "plt.show()"
   ]
  },
  {
   "cell_type": "code",
   "execution_count": null,
   "metadata": {},
   "outputs": [],
   "source": [
    "groups = df.groupby(by=['BOROUGH'])\n",
    "for name, group in groups:\n",
    "    df1_temp = group[group['CONTRIBUTING FACTOR VEHICLE 1'] != \"Unspecified\"]\n",
    "    df1_temp = df1_temp.sort_values(by=['CONTRIBUTING FACTOR VEHICLE 1'])\n",
    "    df_group1 = df1_temp.groupby(by=['CONTRIBUTING FACTOR VEHICLE 1'])\n",
    "    s3 = df_group1.size()\n",
    "\n",
    "    df2_temp = group[group['CONTRIBUTING FACTOR VEHICLE 2'] != \"Unspecified\"]\n",
    "    df2_temp = df2_temp.sort_values(by=['CONTRIBUTING FACTOR VEHICLE 2'])\n",
    "    df_group2 = df2_temp.groupby(by=['CONTRIBUTING FACTOR VEHICLE 2'])\n",
    "    s4= df_group2.size()\n",
    "\n",
    "    df_equal = group[group['CONTRIBUTING FACTOR VEHICLE 1'] == group['CONTRIBUTING FACTOR VEHICLE 2']]\n",
    "    df_equal = df_equal[df_equal['CONTRIBUTING FACTOR VEHICLE 1'] != \"Unspecified\"]\n",
    "    df_equal = df_equal.sort_values(by=['CONTRIBUTING FACTOR VEHICLE 1'])\n",
    "    df_equal_temp = df_equal.groupby(by=['CONTRIBUTING FACTOR VEHICLE 1'])\n",
    "    s5 = df_equal_temp.size()\n",
    "\n",
    "    s_total_ = s3.add(s4, fill_value=0)\n",
    "    s_total = s_total_.sub(s5, fill_value=0)\n",
    "\n",
    "    print(name)\n",
    "    bars = s_total.index\n",
    "    x_pos = range(len(s_total))\n",
    "    plt.bar(x_pos, s_total.values, width=0.8)\n",
    "    plt.xlabel(\"Cause of accident\", fontsize=15)\n",
    "    plt.ylabel(\"Accidents\", fontsize=15)\n",
    "    plt.title(f\"Accidents by type in {name}\", fontsize=15)\n",
    "    plt.xticks(x_pos, bars, rotation = 85, fontsize=15)\n",
    "    plt.yticks(fontsize=15)\n",
    "    for i in range(len(s3)):\n",
    "        plt.text(i, s_total.astype('int32')[i], s_total.astype('int32')[i], ha='center', bbox = dict(facecolor = 'white', alpha =.8), fontsize=15)\n",
    "    plt.show()"
   ]
  }
 ],
 "metadata": {
  "kernelspec": {
   "display_name": "base",
   "language": "python",
   "name": "python3"
  },
  "language_info": {
   "codemirror_mode": {
    "name": "ipython",
    "version": 3
   },
   "file_extension": ".py",
   "mimetype": "text/x-python",
   "name": "python",
   "nbconvert_exporter": "python",
   "pygments_lexer": "ipython3",
   "version": "3.10.9"
  },
  "orig_nbformat": 4
 },
 "nbformat": 4,
 "nbformat_minor": 2
}
