{
 "cells": [
  {
   "cell_type": "code",
   "execution_count": null,
   "metadata": {},
   "outputs": [],
   "source": [
    "import pandas as pd\n",
    "import numpy as np\n",
    "import matplotlib.pyplot as plt\n",
    "from cleanupFile import groupingDictionary_common, cleanUp\n",
    "# plt.rcParams['figure.figsize'] = (20,15)"
   ]
  },
  {
   "cell_type": "code",
   "execution_count": null,
   "metadata": {},
   "outputs": [],
   "source": [
    "groupingDictionary = {\n",
    "    \"Distraction\" : [\"Driver Inattention/Distraction\", \"Outside Car Distraction\", \"Passenger Distraction\", \"Glare\", \"Cell Phone (hand-held)\", \"Cell Phone (hands-free)\", \"Other Electronic Device\"], \n",
    "    \"Car Defects\" : [\"Accelerator Defective\", \"Brakes Defective\", \"Headlights Defective\", \"Other Lighting Defects\", \"Steering Failure\", \"Tire Failure/Inadequate\", \"Tow Hitch Defective\", \"Windshield Inadequate\"],\n",
    "    \"Substance Abuse\" : [\"Alcohol Involvement\", \"Drugs (Illegal)\", \"Prescription Medication\"],\n",
    "    \"Driver not at fault\" : [\"Animals Action\", \"Lane Marking Improper/Inadequate\", \"Obstruction/Debris\", \"Other Vehicular\", \"Pavement Defective\", \"Pavement Slippery\", \"Pedestrian/Bicyclist/Other Pedestrian Error/Confusion\", \"Reaction to Other Uninvolved Vehicle\", \"Shoulders Defective/Improper\", \"Traffic Control Device Improper/Non-Working\", \"View Obstructed/Limited\"], \n",
    "    \"Driver Inexperience\" : [\"Driver Inexperience\"], \n",
    "    \"Medical/Fatigue\" : [\"Fatigued/Drowsy\", \"Fell Asleep\", \"Illness\", \"Lost Consciousness\", \"Physical Disability\"], \n",
    "    \"Traffic Rule Violation\" : [\"Aggressive Driving/Road Rage\", \"Backing Unsafely\", \"Failure to Keep Right\", \"Failure to Yield Right-of-Way\", \"Following Too Closely\", \"Oversized Vehicle\", \"Passing Too Closely\", \"Passing or Lane Usage Improper\", \"Traffic Control Disregarded\", \"Turning Improperly\", \"Unsafe Lane Changing\", \"Unsafe Speed\"]\n",
    "}"
   ]
  },
  {
   "cell_type": "code",
   "execution_count": null,
   "metadata": {},
   "outputs": [],
   "source": [
    "def make_series(df: pd.DataFrame):\n",
    "\n",
    "    groupingDictionary = groupingDictionary_common\n",
    "\n",
    "    df1 = df[df['CONTRIBUTING FACTOR VEHICLE 1'] != \"Unspecified\"]\n",
    "    df1 = df1.sort_values(by=['CONTRIBUTING FACTOR VEHICLE 1'])\n",
    "    df_temp1 = df1.groupby(by=['CONTRIBUTING FACTOR VEHICLE 1'])\n",
    "    s3 = df_temp1.size()\n",
    "\n",
    "    df2 = df[df['CONTRIBUTING FACTOR VEHICLE 2'] != \"Unspecified\"]\n",
    "    df2 = df2.sort_values(by=['CONTRIBUTING FACTOR VEHICLE 2'])\n",
    "    df_temp2 = df2.groupby(by=['CONTRIBUTING FACTOR VEHICLE 2'])\n",
    "    s4 = df_temp2.size()\n",
    "\n",
    "    df_equal = df[df['CONTRIBUTING FACTOR VEHICLE 1'] == df['CONTRIBUTING FACTOR VEHICLE 2']]\n",
    "    df_equal = df_equal[df_equal['CONTRIBUTING FACTOR VEHICLE 1'] != \"Unspecified\"]\n",
    "    df_equal = df_equal.sort_values(by=['CONTRIBUTING FACTOR VEHICLE 1'])\n",
    "    df_equal_temp = df_equal.groupby(by=['CONTRIBUTING FACTOR VEHICLE 1'])\n",
    "    s5 = df_equal_temp.size()\n",
    "    s_total_ = s3.add(s4, fill_value=0)\n",
    "    s_total = s_total_.sub(s5, fill_value=0)\n",
    "\n",
    "    dc = {}\n",
    "    for i in groupingDictionary.keys():\n",
    "        dc[i] = 0\n",
    "\n",
    "    for i in groupingDictionary.keys():\n",
    "        for j in groupingDictionary[i]:\n",
    "            if (j in s_total.index):\n",
    "                dc[i] += s_total[j]\n",
    "\n",
    "    return pd.Series(dc)\n",
    "\n",
    "\n",
    "\n",
    "def plot_series(s_total: pd.Series, name=\"New York City\"):\n",
    "\n",
    "    bars = s_total.index\n",
    "    x_pos = range(len(s_total))\n",
    "    plt.bar(x_pos, s_total.values, width=0.8)\n",
    "    plt.xlabel(\"Cause of accident\", fontsize=15)\n",
    "    plt.ylabel(\"Accidents\", fontsize=15)\n",
    "    plt.title(f\"Accidents by type in {name}\", fontsize=15)\n",
    "    plt.xticks(x_pos, bars, fontsize=10, rotation=80)\n",
    "    plt.yticks(fontsize=10)\n",
    "    for i in range(len(s_total)):\n",
    "        plt.text(i, s_total.astype('int32')[i], s_total.astype('int32')[i], ha='center', bbox = dict(facecolor = 'white', alpha =.8), fontsize=10)"
   ]
  },
  {
   "cell_type": "code",
   "execution_count": null,
   "metadata": {},
   "outputs": [],
   "source": [
    "df = pd.read_csv(\"Dataset5.csv\")\n",
    "cleanUp(df)\n",
    "\n",
    "s = make_series(df)\n",
    "plot_series(s)\n",
    "plt.show()\n",
    "\n",
    "r=-6.0\n",
    "groups = df.groupby(by=['BOROUGH'])\n",
    "for name, group in groups:\n",
    "    s = make_series(group)\n",
    "    print(name)\n",
    "    bars = s.index\n",
    "    x_pos = np.arange(len(s))\n",
    "    x_pos*=20\n",
    "    plt.bar(x_pos+r, s.values, width=3, label=name)\n",
    "    plt.xlabel(\"Cause of accident\", fontsize=15)\n",
    "    plt.ylabel(\"Accidents\", fontsize=15)\n",
    "    plt.xticks(x_pos, bars, fontsize=10, rotation=80)\n",
    "    plt.yticks(fontsize=10)\n",
    "    r+=3\n",
    "plt.title(\"Accidents by type in different boroughs\", fontsize=15)\n",
    "plt.legend()\n",
    "plt.show()"
   ]
  }
 ],
 "metadata": {
  "kernelspec": {
   "display_name": "base",
   "language": "python",
   "name": "python3"
  },
  "language_info": {
   "codemirror_mode": {
    "name": "ipython",
    "version": 3
   },
   "file_extension": ".py",
   "mimetype": "text/x-python",
   "name": "python",
   "nbconvert_exporter": "python",
   "pygments_lexer": "ipython3",
   "version": "3.10.9"
  },
  "orig_nbformat": 4
 },
 "nbformat": 4,
 "nbformat_minor": 2
}
