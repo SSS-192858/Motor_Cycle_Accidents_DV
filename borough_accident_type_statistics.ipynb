{
 "cells": [
  {
   "cell_type": "code",
   "execution_count": null,
   "metadata": {},
   "outputs": [],
   "source": [
    "import pandas as pd\n",
    "import matplotlib.pyplot as plt\n",
    "plt.rcParams['figure.figsize'] = (30,15)"
   ]
  },
  {
   "cell_type": "code",
   "execution_count": null,
   "metadata": {},
   "outputs": [],
   "source": [
    "df = pd.read_csv(\"Dataset1.csv\")\n",
    "\n",
    "df.drop(columns=['CONTRIBUTING FACTOR VEHICLE 3', 'CONTRIBUTING FACTOR VEHICLE 4', 'CONTRIBUTING FACTOR VEHICLE 5', 'VEHICLE TYPE CODE 3', 'VEHICLE TYPE CODE 4', 'VEHICLE TYPE CODE 5'], inplace=True)\n",
    "df.dropna(subset=['LATITUDE', 'LONGITUDE'], inplace=True)\n",
    "df.dropna(subset=['BOROUGH'], inplace=True)\n",
    "df = df[df['LATITUDE']!=0]\n",
    "df = df[df['LONGITUDE']!=0]"
   ]
  },
  {
   "cell_type": "code",
   "execution_count": null,
   "metadata": {},
   "outputs": [],
   "source": [
    "groupingDictionary = {\n",
    "    \"Distraction\" : [\"Driver Inattention/Distraction\", \"Outside Car Distraction\", \"Passenger Distraction\", \"Glare\", \"Cell Phone (hand-held)\", \"Cell Phone (hands-free)\", \"Other Electronic Device\"], \n",
    "    \"Car Defects\" : [\"Accelerator Defective\", \"Brakes Defective\", \"Headlights Defective\", \"Other Lighting Defects\", \"Steering Failure\", \"Tire Failure/Inadequate\", \"Tow Hitch Defective\", \"Windshield Inadequate\"],\n",
    "    \"Substance Abuse\" : [\"Alcohol Involvement\", \"Drugs (Illegal)\", \"Prescription Medication\"],\n",
    "    \"Driver not at fault\" : [\"Animals Action\", \"Lane Marking Improper/Inadequate\", \"Obstruction/Debris\", \"Other Vehicular\", \"Pavement Defective\", \"Pavement Slippery\", \"Pedestrian/Bicyclist/Other Pedestrian Error/Confusion\", \"Reaction to Other Uninvolved Vehicle\", \"Shoulders Defective/Improper\", \"Traffic Control Device Improper/Non-Working\", \"View Obstructed/Limited\"], \n",
    "    \"Driver Inexperience\" : [\"Driver Inexperience\"], \n",
    "    \"Medical/Fatigue\" : [\"Fatigued/Drowsy\", \"Fell Asleep\", \"Illness\", \"Lost Consciousness\", \"Physical Disability\"], \n",
    "    \"Traffic Rule Violation\" : [\"Aggressive Driving/Road Rage\", \"Backing Unsafely\", \"Failure to Keep Right\", \"Failure to Yield Right-of-Way\", \"Following Too Closely\", \"Oversized Vehicle\", \"Passing Too Closely\", \"Passing or Lane Usage Improper\", \"Traffic Control Disregarded\", \"Turning Improperly\", \"Unsafe Lane Changing\", \"Unsafe Speed\"]\n",
    "}"
   ]
  },
  {
   "cell_type": "code",
   "execution_count": null,
   "metadata": {},
   "outputs": [],
   "source": [
    "def make_series(df: pd.DataFrame):\n",
    "\n",
    "    df1 = df[df['CONTRIBUTING FACTOR VEHICLE 1'] != \"Unspecified\"]\n",
    "    df1 = df1.sort_values(by=['CONTRIBUTING FACTOR VEHICLE 1'])\n",
    "    df_temp1 = df1.groupby(by=['CONTRIBUTING FACTOR VEHICLE 1'])\n",
    "    s3 = df_temp1.size()\n",
    "\n",
    "    df2 = df[df['CONTRIBUTING FACTOR VEHICLE 2'] != \"Unspecified\"]\n",
    "    df2 = df2.sort_values(by=['CONTRIBUTING FACTOR VEHICLE 2'])\n",
    "    df_temp2 = df2.groupby(by=['CONTRIBUTING FACTOR VEHICLE 2'])\n",
    "    s4 = df_temp2.size()\n",
    "\n",
    "    df_equal = df[df['CONTRIBUTING FACTOR VEHICLE 1'] == df['CONTRIBUTING FACTOR VEHICLE 2']]\n",
    "    df_equal = df_equal[df_equal['CONTRIBUTING FACTOR VEHICLE 1'] != \"Unspecified\"]\n",
    "    df_equal = df_equal.sort_values(by=['CONTRIBUTING FACTOR VEHICLE 1'])\n",
    "    df_equal_temp = df_equal.groupby(by=['CONTRIBUTING FACTOR VEHICLE 1'])\n",
    "    s5 = df_equal_temp.size()\n",
    "    s_total_ = s3.add(s4, fill_value=0)\n",
    "    s_total = s_total_.sub(s5, fill_value=0)\n",
    "\n",
    "    dc = {}\n",
    "    for i in groupingDictionary.keys():\n",
    "        dc[i] = 0\n",
    "\n",
    "    for i in groupingDictionary.keys():\n",
    "        for j in groupingDictionary[i]:\n",
    "            if (j in s_total.index):\n",
    "                dc[i] += s_total[j]\n",
    "\n",
    "    return pd.Series(dc)\n",
    "\n",
    "\n",
    "\n",
    "def plot_series(s_total: pd.Series):\n",
    "\n",
    "    bars = s_total.index\n",
    "    x_pos = range(len(s_total))\n",
    "    plt.bar(x_pos, s_total.values, width=0.4)\n",
    "    plt.xlabel(\"Cause of accident\", fontsize=15)\n",
    "    plt.ylabel(\"Accidents\", fontsize=15)\n",
    "    plt.title(\"Accidents by type in New York City\", fontsize=15)\n",
    "    plt.xticks(x_pos, bars, fontsize=15)\n",
    "    plt.yticks(fontsize=15)\n",
    "    for i in range(len(s_total)):\n",
    "        plt.text(i, s_total.astype('int32')[i], s_total.astype('int32')[i], ha='center', bbox = dict(facecolor = 'white', alpha =.8), fontsize=15)\n",
    "    plt.show()"
   ]
  },
  {
   "cell_type": "code",
   "execution_count": null,
   "metadata": {},
   "outputs": [],
   "source": [
    "s = make_series(df)\n",
    "plot_series(s)"
   ]
  },
  {
   "cell_type": "code",
   "execution_count": null,
   "metadata": {},
   "outputs": [],
   "source": [
    "groups = df.groupby(by=['BOROUGH'])\n",
    "for name, group in groups:\n",
    "    s = make_series(group)\n",
    "    print(name)\n",
    "    plot_series(s)"
   ]
  }
 ],
 "metadata": {
  "kernelspec": {
   "display_name": "base",
   "language": "python",
   "name": "python3"
  },
  "language_info": {
   "codemirror_mode": {
    "name": "ipython",
    "version": 3
   },
   "file_extension": ".py",
   "mimetype": "text/x-python",
   "name": "python",
   "nbconvert_exporter": "python",
   "pygments_lexer": "ipython3",
   "version": "3.10.9"
  },
  "orig_nbformat": 4
 },
 "nbformat": 4,
 "nbformat_minor": 2
}
