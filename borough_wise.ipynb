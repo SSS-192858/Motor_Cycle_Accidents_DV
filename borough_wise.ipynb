{
 "cells": [
  {
   "cell_type": "code",
   "execution_count": null,
   "metadata": {},
   "outputs": [],
   "source": [
    "import pandas as pd\n",
    "import plotly.express as px\n",
    "from cleanupFile import cleanUp, custom_acc_type, groupingDictionary_common"
   ]
  },
  {
   "cell_type": "code",
   "execution_count": null,
   "metadata": {},
   "outputs": [],
   "source": [
    "df = pd.read_csv(\"Dataset5.csv\")\n",
    "cleanUp(df)\n",
    "fig = px.scatter_mapbox(df, lat='LATITUDE', lon='LONGITUDE', color='BOROUGH', zoom=12, height=1200, width=1500)\n",
    "fig.update_layout(mapbox_style = \"open-street-map\")\n",
    "fig.show()"
   ]
  },
  {
   "cell_type": "code",
   "execution_count": null,
   "metadata": {},
   "outputs": [],
   "source": [
    "df1 = df[df['CONTRIBUTING FACTOR VEHICLE 1'] != \"Unspecified\"]\n",
    "\n",
    "df1['MAJOR ACCIDENT TYPE 1'] = df1.apply(custom_acc_type,args=1,axis=1)\n",
    "\n",
    "for name, group in df1:\n",
    "    df_temp = df1[df1['BOROUGH'] == name]\n",
    "    df_temp = df_temp.sort_values(by=['MAJOR ACCIDENT TYPE 1'])\n",
    "    print(name)\n",
    "    fig = px.scatter_mapbox(df_temp, lat='LATITUDE', lon='LONGITUDE', color='MAJOR ACCIDENT TYPE 1', zoom=12, height=1200, width=1500)\n",
    "    fig.update_layout(mapbox_style = \"open-street-map\")\n",
    "    fig.show()\n"
   ]
  },
  {
   "cell_type": "code",
   "execution_count": null,
   "metadata": {},
   "outputs": [],
   "source": [
    "df1 = df[df['CONTRIBUTING FACTOR VEHICLE 2'] != \"Unspecified\"]\n",
    "\n",
    "df1['MAJOR ACCIDENT TYPE 2'] = df1.apply(custom_acc_type, args=2,axis=1)\n",
    "\n",
    "for name, group in df1:\n",
    "    df_temp = df1[df1['BOROUGH'] == name]\n",
    "    df_temp = df_temp.sort_values(by=['MAJOR ACCIDENT TYPE 2'])\n",
    "    print(name)\n",
    "    fig = px.scatter_mapbox(df_temp, lat='LATITUDE', lon='LONGITUDE', color='MAJOR ACCIDENT TYPE 2', zoom=12, height=1200, width=1500)\n",
    "    fig.update_layout(mapbox_style = \"open-street-map\")\n",
    "    fig.show()"
   ]
  }
 ],
 "metadata": {
  "kernelspec": {
   "display_name": "base",
   "language": "python",
   "name": "python3"
  },
  "language_info": {
   "codemirror_mode": {
    "name": "ipython",
    "version": 3
   },
   "file_extension": ".py",
   "mimetype": "text/x-python",
   "name": "python",
   "nbconvert_exporter": "python",
   "pygments_lexer": "ipython3",
   "version": "3.11.3"
  },
  "orig_nbformat": 4
 },
 "nbformat": 4,
 "nbformat_minor": 2
}
