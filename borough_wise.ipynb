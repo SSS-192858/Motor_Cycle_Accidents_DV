{
 "cells": [
  {
   "cell_type": "markdown",
   "metadata": {},
   "source": [
    "### Borough wise data analysis for 2012-2013\n",
    "\n",
    "We now try and break the datasets into multiple smaller datasets focusing on the various boroughs in New York and try to draw comparisons between them."
   ]
  },
  {
   "cell_type": "code",
   "execution_count": null,
   "metadata": {},
   "outputs": [],
   "source": [
    "import pandas as pd\n",
    "import plotly.express as px"
   ]
  },
  {
   "cell_type": "code",
   "execution_count": null,
   "metadata": {},
   "outputs": [],
   "source": [
    "df = pd.read_csv(\"Dataset1.csv\")\n",
    "\n",
    "df.drop(columns=['CONTRIBUTING FACTOR VEHICLE 3', 'CONTRIBUTING FACTOR VEHICLE 4', 'CONTRIBUTING FACTOR VEHICLE 5', 'VEHICLE TYPE CODE 3', 'VEHICLE TYPE CODE 4', 'VEHICLE TYPE CODE 5'], inplace=True)\n",
    "df.dropna(subset=['LATITUDE', 'LONGITUDE'], inplace=True)\n",
    "df.dropna(subset=['BOROUGH'], inplace=True)\n",
    "df = df[df['LATITUDE']!=0]\n",
    "df = df[df['LONGITUDE']!=0]"
   ]
  },
  {
   "cell_type": "code",
   "execution_count": null,
   "metadata": {},
   "outputs": [],
   "source": [
    "fig = px.scatter_mapbox(df, lat='LATITUDE', lon='LONGITUDE', color='BOROUGH', zoom=12, height=1200, width=1500)\n",
    "fig.update_layout(mapbox_style = \"open-street-map\")\n",
    "fig.show()"
   ]
  },
  {
   "cell_type": "code",
   "execution_count": null,
   "metadata": {},
   "outputs": [],
   "source": [
    "df2 = df.groupby('BOROUGH')\n",
    "print(\"+-----------------------+\")\n",
    "print(df2.size())\n",
    "print(\"+-----------------------+\")"
   ]
  },
  {
   "cell_type": "code",
   "execution_count": null,
   "metadata": {},
   "outputs": [],
   "source": [
    "groupingDictionary = {\n",
    "    \"Distraction\" : [\"Driver Inattention/Distraction\", \"Outside Car Distraction\", \"Passenger Distraction\", \"Glare\", \"Cell Phone (hand-held)\", \"Cell Phone (hands-free)\", \"Other Electronic Device\"], \n",
    "    \"Car Defects\" : [\"Accelerator Defective\", \"Brakes Defective\", \"Headlights Defective\", \"Other Lighting Defects\", \"Steering Failure\", \"Tire Failure/Inadequate\", \"Tow Hitch Defective\", \"Windshield Inadequate\"],\n",
    "    \"Substance Abuse\" : [\"Alcohol Involvement\", \"Drugs (Illegal)\", \"Prescription Medication\"],\n",
    "    \"Driver not at fault\" : [\"Animals Action\", \"Lane Marking Improper/Inadequate\", \"Obstruction/Debris\", \"Other Vehicular\", \"Pavement Defective\", \"Pavement Slippery\", \"Pedestrian/Bicyclist/Other Pedestrian Error/Confusion\", \"Reaction to Other Uninvolved Vehicle\", \"Shoulders Defective/Improper\", \"Traffic Control Device Improper/Non-Working\", \"View Obstructed/Limited\"], \n",
    "    \"Driver Inexperience\" : [\"Driver Inexperience\"], \n",
    "    \"Medical/Fatigue\" : [\"Fatigued/Drowsy\", \"Fell Asleep\", \"Illness\", \"Lost Consciousness\", \"Physical Disability\"], \n",
    "    \"Traffic Rule Violation\" : [\"Aggressive Driving/Road Rage\", \"Backing Unsafely\", \"Failure to Keep Right\", \"Failure to Yield Right-of-Way\", \"Following Too Closely\", \"Oversized Vehicle\", \"Passing Too Closely\", \"Passing or Lane Usage Improper\", \"Traffic Control Disregarded\", \"Turning Improperly\", \"Unsafe Lane Changing\", \"Unsafe Speed\"]\n",
    "}\n",
    "\n",
    "color_dict = {\n",
    "    \"Distraction\" : \"rgb(0, 128, 128)\",\n",
    "    \"Car Defects\" : \"rgb(0, 255, 255)\", \n",
    "    \"Substance Abuse\" : \"rgb(0, 0, 255)\", \n",
    "    \"Driver not at fault\" : \"rgb(255, 255, 0)\", \n",
    "    \"Driver Inexperience\" : \"rgb(128, 0, 128)\", \n",
    "    \"Medical/Fatigue\" : \"rgb(255, 165, 0)\", \n",
    "    \"Traffic Rule Violation\" : \"rgb(255, 0, 0)\"\n",
    "}"
   ]
  },
  {
   "cell_type": "code",
   "execution_count": null,
   "metadata": {},
   "outputs": [],
   "source": [
    "def custom_acc_type(row):\n",
    "    for j in groupingDictionary.keys():\n",
    "       if row['CONTRIBUTING FACTOR VEHICLE 1'] in groupingDictionary[j]:\n",
    "           return j"
   ]
  },
  {
   "cell_type": "code",
   "execution_count": null,
   "metadata": {},
   "outputs": [],
   "source": [
    "df1 = df[df['CONTRIBUTING FACTOR VEHICLE 1'] != \"Unspecified\"]\n",
    "\n",
    "df1['MAJOR ACCIDENT TYPE 1'] = df1.apply(custom_acc_type,axis=1)\n",
    " \n",
    "for name, group in df2:\n",
    "    df_temp = df1[df1['BOROUGH'] == name]\n",
    "    df_temp = df_temp.sort_values(by=['MAJOR ACCIDENT TYPE 1'])\n",
    "    print(name)\n",
    "    fig = px.scatter_mapbox(df_temp, lat='LATITUDE', lon='LONGITUDE', color='MAJOR ACCIDENT TYPE 1', color_discrete_map=color_dict, zoom=12, height=1200, width=1500)\n",
    "    fig.update_layout(mapbox_style = \"open-street-map\")\n",
    "    fig.show()"
   ]
  },
  {
   "cell_type": "code",
   "execution_count": null,
   "metadata": {},
   "outputs": [],
   "source": [
    "df1 = df[df['CONTRIBUTING FACTOR VEHICLE 2'] != \"Unspecified\"]\n",
    "\n",
    "df1['MAJOR ACCIDENT TYPE 2'] = df1.apply(custom_acc_type,axis=1)\n",
    "\n",
    "for name, group in df2:\n",
    "    df_temp = df1[df1['BOROUGH'] == name]\n",
    "    df_temp = df_temp.sort_values(by=['MAJOR ACCIDENT TYPE 2'])\n",
    "    print(name)\n",
    "    fig = px.scatter_mapbox(df_temp, lat='LATITUDE', lon='LONGITUDE', color='MAJOR ACCIDENT TYPE 2', zoom=12, height=1200, width=1500)\n",
    "    fig.update_layout(mapbox_style = \"open-street-map\")\n",
    "    fig.show()"
   ]
  }
 ],
 "metadata": {
  "kernelspec": {
   "display_name": "base",
   "language": "python",
   "name": "python3"
  },
  "language_info": {
   "codemirror_mode": {
    "name": "ipython",
    "version": 3
   },
   "file_extension": ".py",
   "mimetype": "text/x-python",
   "name": "python",
   "nbconvert_exporter": "python",
   "pygments_lexer": "ipython3",
   "version": "3.10.9"
  },
  "orig_nbformat": 4
 },
 "nbformat": 4,
 "nbformat_minor": 2
}
