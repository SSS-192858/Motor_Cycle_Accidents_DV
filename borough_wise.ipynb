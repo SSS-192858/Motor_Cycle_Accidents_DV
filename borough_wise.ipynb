{
 "cells": [
  {
   "cell_type": "markdown",
   "metadata": {},
   "source": [
    "### Borough wise data analysis for 2012-2013\n",
    "\n",
    "We now try and break the datasets into multiple smaller datasets focusing on the various boroughs in New York and try to draw comparisons between them."
   ]
  },
  {
   "cell_type": "code",
   "execution_count": null,
   "metadata": {},
   "outputs": [],
   "source": [
    "import pandas as pd\n",
    "import plotly.express as px"
   ]
  },
  {
   "cell_type": "code",
   "execution_count": null,
   "metadata": {},
   "outputs": [],
   "source": [
    "df = pd.read_csv(\"Dataset1.csv\")"
   ]
  },
  {
   "cell_type": "code",
   "execution_count": null,
   "metadata": {},
   "outputs": [],
   "source": [
    "df.drop(columns=['CONTRIBUTING FACTOR VEHICLE 3', 'CONTRIBUTING FACTOR VEHICLE 4', 'CONTRIBUTING FACTOR VEHICLE 5', 'VEHICLE TYPE CODE 3', 'VEHICLE TYPE CODE 4', 'VEHICLE TYPE CODE 5'], inplace=True)\n",
    "df.dropna(subset=['LATITUDE', 'LONGITUDE'], inplace=True)\n",
    "df.dropna(subset=['BOROUGH'], inplace=True)\n",
    "df = df[df['LATITUDE']!=0]\n",
    "df = df[df['LONGITUDE']!=0]"
   ]
  },
  {
   "cell_type": "code",
   "execution_count": null,
   "metadata": {},
   "outputs": [],
   "source": [
    "fig = px.scatter_mapbox(df, lat='LATITUDE', lon='LONGITUDE', color='BOROUGH', zoom=12, height=1200, width=1500)\n",
    "fig.update_layout(mapbox_style = \"open-street-map\")\n",
    "fig.show()"
   ]
  },
  {
   "cell_type": "code",
   "execution_count": null,
   "metadata": {},
   "outputs": [],
   "source": [
    "df2 = df.groupby('BOROUGH')\n",
    "print(\"+-----------------------+\")\n",
    "print(df2.size())\n",
    "print(\"+-----------------------+\")"
   ]
  },
  {
   "cell_type": "code",
   "execution_count": null,
   "metadata": {},
   "outputs": [],
   "source": [
    "df1 = df[df['CONTRIBUTING FACTOR VEHICLE 1'] != \"Unspecified\"]\n",
    "for name, group in df2:\n",
    "    df_temp = df1[df1['BOROUGH'] == name]\n",
    "    df_temp = df_temp.sort_values(by=['CONTRIBUTING FACTOR VEHICLE 1'])\n",
    "    print(name)\n",
    "    fig = px.scatter_mapbox(df_temp, lat='LATITUDE', lon='LONGITUDE', color='CONTRIBUTING FACTOR VEHICLE 1', zoom=12, height=1200, width=1500)\n",
    "    fig.update_layout(mapbox_style = \"open-street-map\")\n",
    "    fig.show()"
   ]
  },
  {
   "cell_type": "code",
   "execution_count": null,
   "metadata": {},
   "outputs": [],
   "source": [
    "df1 = df[df['CONTRIBUTING FACTOR VEHICLE 2'] != \"Unspecified\"]\n",
    "for name, group in df2:\n",
    "    df_temp = df1[df1['BOROUGH'] == name]\n",
    "    df_temp = df_temp.sort_values(by=['CONTRIBUTING FACTOR VEHICLE 2'])\n",
    "    print(name)\n",
    "    fig = px.scatter_mapbox(df_temp, lat='LATITUDE', lon='LONGITUDE', color='CONTRIBUTING FACTOR VEHICLE 2', zoom=12, height=1200, width=1500)\n",
    "    fig.update_layout(mapbox_style = \"open-street-map\")\n",
    "    fig.show()"
   ]
  }
 ],
 "metadata": {
  "kernelspec": {
   "display_name": "base",
   "language": "python",
   "name": "python3"
  },
  "language_info": {
   "codemirror_mode": {
    "name": "ipython",
    "version": 3
   },
   "file_extension": ".py",
   "mimetype": "text/x-python",
   "name": "python",
   "nbconvert_exporter": "python",
   "pygments_lexer": "ipython3",
   "version": "3.10.9"
  },
  "orig_nbformat": 4
 },
 "nbformat": 4,
 "nbformat_minor": 2
}
