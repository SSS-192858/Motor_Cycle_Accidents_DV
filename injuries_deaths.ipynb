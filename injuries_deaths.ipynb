{
 "cells": [
  {
   "cell_type": "code",
   "execution_count": null,
   "metadata": {},
   "outputs": [],
   "source": [
    "import pandas as pd\n",
    "from datetime import time\n",
    "import matplotlib.pyplot as plt\n",
    "from cleanupFile import cleanUp"
   ]
  },
  {
   "cell_type": "code",
   "execution_count": null,
   "metadata": {},
   "outputs": [],
   "source": [
    "def count_func(df1: pd.DataFrame,param,dict):\n",
    "    for i,row in df1.iterrows():\n",
    "        dict[row['BOROUGH']][0]+=row['NUMBER OF PEDESTRIANS '+param]\n",
    "        dict[row['BOROUGH']][1]+=row['NUMBER OF CYCLIST '+param]\n",
    "        dict[row['BOROUGH']][2]+=row['NUMBER OF MOTORIST '+param]"
   ]
  },
  {
   "cell_type": "code",
   "execution_count": null,
   "metadata": {},
   "outputs": [],
   "source": [
    "def plot_func(dict, param):\n",
    "       \n",
    "    df2=pd.DataFrame.from_dict(dict,orient='index',columns=['PEDESTRIANS '+param,'CYCLIST '+param,'MOTORIST '+param])\n",
    "\n",
    "    plt.bar(df2.index,df2['PEDESTRIANS '+param],color='r')\n",
    "    plt.bar(df2.index,df2['CYCLIST '+param],bottom=df2['PEDESTRIANS '+param],color='b')\n",
    "    plt.bar(df2.index,df2['MOTORIST '+param],bottom=df2['CYCLIST '+param]+df2['PEDESTRIANS '+param],color='g')\n",
    "    plt.xlabel(\"Boroughs\")\n",
    "    param1 = \"Deaths\" if param==\"KILLED\" else \"Injuries\"\n",
    "    plt.ylabel(param1)\n",
    "    plt.legend([\"PEDESTRIANS \"+param, \"CYCLIST \"+param, \"MOTORIST \"+param])\n",
    "    plt.title(f\"Borough and {param1}\")\n",
    "    plt.show()"
   ]
  },
  {
   "cell_type": "code",
   "execution_count": null,
   "metadata": {},
   "outputs": [],
   "source": [
    "df = pd.read_csv(\"Dataset1.csv\")\n",
    "cleanUp(df)\n",
    "groups = df.groupby(by=['BOROUGH'])\n",
    "\n",
    "dict1 = {}\n",
    "for name, group in groups:\n",
    "    dict1[name] = [0,0,0]\n",
    "\n",
    "count_func(df,\"KILLED\",dict1)\n",
    "plot_func(dict1, \"KILLED\")\n",
    "\n",
    "dict2 = {}\n",
    "for name, group in groups:\n",
    "    dict2[name] = [0,0,0]\n",
    "\n",
    "count_func(df,\"INJURED\",dict2)\n",
    "plot_func(dict2, \"INJURED\")"
   ]
  }
 ],
 "metadata": {
  "kernelspec": {
   "display_name": "base",
   "language": "python",
   "name": "python3"
  },
  "language_info": {
   "codemirror_mode": {
    "name": "ipython",
    "version": 3
   },
   "file_extension": ".py",
   "mimetype": "text/x-python",
   "name": "python",
   "nbconvert_exporter": "python",
   "pygments_lexer": "ipython3",
   "version": "3.10.9"
  },
  "orig_nbformat": 4
 },
 "nbformat": 4,
 "nbformat_minor": 2
}
