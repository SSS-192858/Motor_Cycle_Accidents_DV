{
 "cells": [
  {
   "cell_type": "code",
   "execution_count": null,
   "metadata": {},
   "outputs": [],
   "source": [
    "import pandas as pd\n",
    "from datetime import time\n",
    "import matplotlib.pyplot as plt\n",
    "import plotly.express as px"
   ]
  },
  {
   "cell_type": "code",
   "execution_count": null,
   "metadata": {},
   "outputs": [],
   "source": [
    "df = pd.read_csv(\"Dataset1.csv\")"
   ]
  },
  {
   "cell_type": "code",
   "execution_count": null,
   "metadata": {},
   "outputs": [],
   "source": [
    "df.drop(columns=['CONTRIBUTING FACTOR VEHICLE 3', 'CONTRIBUTING FACTOR VEHICLE 4', 'CONTRIBUTING FACTOR VEHICLE 5', 'VEHICLE TYPE CODE 3', 'VEHICLE TYPE CODE 4', 'VEHICLE TYPE CODE 5'], inplace=True)"
   ]
  },
  {
   "cell_type": "code",
   "execution_count": null,
   "metadata": {},
   "outputs": [],
   "source": [
    "df.dropna(subset=['LATITUDE', 'LONGITUDE'],inplace=True)\n",
    "df = df[df['LATITUDE']!=0]\n",
    "df = df[df['LONGITUDE']!=0]"
   ]
  },
  {
   "cell_type": "code",
   "execution_count": null,
   "metadata": {},
   "outputs": [],
   "source": [
    "df.dropna(subset=['BOROUGH'])"
   ]
  },
  {
   "cell_type": "code",
   "execution_count": null,
   "metadata": {},
   "outputs": [],
   "source": [
    "df3 = df\n",
    "# columns = list(df3)\n",
    "time1 = time(6,00,00)\n",
    "time2 = time(12,00,00)\n",
    "time3 = time(16,30,00)\n",
    "time4 = time(22,00,00)\n",
    "\n",
    "\n",
    "def custom_time_func(row,time1,time2,time3,time4):\n",
    "    if row['CRASH TIME']>=str(time4) or row['CRASH TIME']<str(time1):\n",
    "        return \"MID NIGHT\"\n",
    "    elif row['CRASH TIME']>=str(time1) and row['CRASH TIME']<str(time2):\n",
    "        return \"MORNING\"\n",
    "    elif row['CRASH TIME']>=str(time2) and row['CRASH TIME']<str(time3):\n",
    "        return \"AFTERNOON\"\n",
    "    elif row['CRASH TIME']>= str(time3) and row['CRASH TIME']<str(time4):\n",
    "        return \"NIGHT\"\n",
    "\n",
    "df3['CRASH_DAYTIME'] = df3.apply(custom_time_func,args=(time1,time2,time3,time4),axis=1)\n",
    "df3"
   ]
  },
  {
   "cell_type": "code",
   "execution_count": null,
   "metadata": {},
   "outputs": [],
   "source": [
    "\n",
    "df3 = df3.groupby('CRASH_DAYTIME').count()\n",
    "df4 = df3['CRASH DATE']\n",
    "df4\n",
    "# dayTime = ['Product A', 'Product B', \n",
    "#          'Product C', 'Product D']\n",
    "  \n",
    "# # profit = [20, 30, 25, 20]\n",
    "# # # explode = (0.1, 0, 0.1, 0) \n",
    "  \n",
    "# plt.pie(df4,labels = df4.index,\n",
    "#         autopct = '%1.1f%%',shadow = True,\n",
    "#         startangle = 0,\n",
    "#         wedgeprops = {\"edgecolor\":\"black\",\n",
    "#                     'linewidth': 2,\n",
    "#                     'antialiased': True})\n",
    "  \n",
    "# # Equal aspect ratio ensures\n",
    "# # that pie is drawn as a circle.\n",
    "# plt.axis('equal')  \n",
    "  \n",
    "# plt.show()"
   ]
  },
  {
   "cell_type": "code",
   "execution_count": null,
   "metadata": {},
   "outputs": [],
   "source": [
    "plt.pie(df4,labels = df4.index,\n",
    "        autopct = '%1.1f%%',shadow = True,\n",
    "        startangle = 0,\n",
    "        wedgeprops = {\"edgecolor\":\"black\",\n",
    "                    'linewidth': 2,\n",
    "                    'antialiased': True})\n",
    "plt.axis('equal')  \n",
    "  \n",
    "plt.show()"
   ]
  },
  {
   "cell_type": "code",
   "execution_count": null,
   "metadata": {},
   "outputs": [],
   "source": [
    "df2 = df.groupby('BOROUGH').count()\n",
    "df2"
   ]
  },
  {
   "cell_type": "code",
   "execution_count": null,
   "metadata": {},
   "outputs": [],
   "source": [
    "df = df[df['CONTRIBUTING FACTOR VEHICLE 1'] != \"Unspecified\"]"
   ]
  },
  {
   "cell_type": "code",
   "execution_count": null,
   "metadata": {},
   "outputs": [],
   "source": [
    "fig = px.scatter_mapbox(df, lat='LATITUDE', lon='LONGITUDE', color='CONTRIBUTING FACTOR VEHICLE 1', zoom=12, height=1200, width=1500)\n",
    "fig.update_layout(mapbox_style = \"open-street-map\")\n",
    "fig.show()"
   ]
  },
  {
   "cell_type": "code",
   "execution_count": null,
   "metadata": {},
   "outputs": [],
   "source": [
    "fig = px.scatter_mapbox(df, lat='LATITUDE', lon='LONGITUDE', color='BOROUGH', zoom=12, height=1200, width=1500)\n",
    "fig.update_layout(mapbox_style = \"open-street-map\")\n",
    "fig.show()"
   ]
  }
 ],
 "metadata": {
  "kernelspec": {
   "display_name": "base",
   "language": "python",
   "name": "python3"
  },
  "language_info": {
   "codemirror_mode": {
    "name": "ipython",
    "version": 3
   },
   "file_extension": ".py",
   "mimetype": "text/x-python",
   "name": "python",
   "nbconvert_exporter": "python",
   "pygments_lexer": "ipython3",
   "version": "3.11.3"
  },
  "orig_nbformat": 4
 },
 "nbformat": 4,
 "nbformat_minor": 2
}
