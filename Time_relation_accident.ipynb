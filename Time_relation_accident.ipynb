{
 "cells": [
  {
   "cell_type": "code",
   "execution_count": null,
   "metadata": {},
   "outputs": [],
   "source": [
    "import pandas as pd\n",
    "import numpy as np\n",
    "import matplotlib.pyplot as plt\n",
    "from datetime import time\n",
    "from cleanupFile import cleanUp\n",
    "plt.rcParams['figure.figsize'] = (30,15)\n",
    "plt.rcParams.update({'font.size': 15})"
   ]
  },
  {
   "cell_type": "code",
   "execution_count": null,
   "metadata": {},
   "outputs": [],
   "source": [
    "df = pd.read_csv(\"./Dataset5.csv\")\n",
    "cleanUp(df)\n",
    "df"
   ]
  },
  {
   "cell_type": "code",
   "execution_count": null,
   "metadata": {},
   "outputs": [],
   "source": [
    "time1 = time(6,00,00)\n",
    "time2 = time(12,00,00)\n",
    "time3 = time(16,30,00)\n",
    "time4 = time(22,00,00)\n",
    "\n",
    "def custom_time_func(row,time1,time2,time3,time4):\n",
    "    if row['CRASH TIME']>=str(time4) or row['CRASH TIME']<str(time1):\n",
    "        return \"MID NIGHT\"\n",
    "    elif row['CRASH TIME']>=str(time1) and row['CRASH TIME']<str(time2):\n",
    "        return \"MORNING\"\n",
    "    elif row['CRASH TIME']>=str(time2) and row['CRASH TIME']<str(time3):\n",
    "        return \"AFTERNOON\"\n",
    "    elif row['CRASH TIME']>= str(time3) and row['CRASH TIME']<str(time4):\n",
    "        return \"NIGHT\""
   ]
  },
  {
   "cell_type": "code",
   "execution_count": null,
   "metadata": {},
   "outputs": [],
   "source": [
    "groupingDictionary_common = {\n",
    "    \"Distraction\" : [\"Driver Inattention/Distraction\", \"Outside Car Distraction\", \"Passenger Distraction\", \"Glare\", \"Cell Phone (hand-held)\", \"Cell Phone (hands-free)\", \"Other Electronic Device\"], \n",
    "    \"Car Defects\" : [\"Accelerator Defective\", \"Brakes Defective\", \"Headlights Defective\", \"Other Lighting Defects\", \"Steering Failure\", \"Tire Failure/Inadequate\", \"Tow Hitch Defective\", \"Windshield Inadequate\"],\n",
    "    \"Substance Abuse\" : [\"Alcohol Involvement\", \"Drugs (Illegal)\", \"Prescription Medication\"],\n",
    "    \"Driver not at fault\" : [\"Animals Action\", \"Lane Marking Improper/Inadequate\", \"Obstruction/Debris\", \"Other Vehicular\", \"Pavement Defective\", \"Pavement Slippery\", \"Pedestrian/Bicyclist/Other Pedestrian Error/Confusion\", \"Reaction to Other Uninvolved Vehicle\", \"Shoulders Defective/Improper\", \"Traffic Control Device Improper/Non-Working\", \"View Obstructed/Limited\"], \n",
    "    \"Driver Inexperience\" : [\"Driver Inexperience\"], \n",
    "    \"Medical/Fatigue\" : [\"Fatigued/Drowsy\", \"Fell Asleep\", \"Illness\", \"Lost Consciousness\", \"Physical Disability\"], \n",
    "    \"Traffic Rule Violation\" : [\"Aggressive Driving/Road Rage\", \"Backing Unsafely\", \"Failure to Keep Right\", \"Failure to Yield Right-of-Way\", \"Following Too Closely\", \"Oversized Vehicle\", \"Passing Too Closely\", \"Passing or Lane Usage Improper\", \"Traffic Control Disregarded\", \"Turning Improperly\", \"Unsafe Lane Changing\", \"Unsafe Speed\"]\n",
    "}\n",
    "    \n",
    "def custom_acc_type(row, column):\n",
    "    for j in groupingDictionary_common.keys():\n",
    "        if (column == 1):\n",
    "            if row['CONTRIBUTING FACTOR VEHICLE 1'] in groupingDictionary_common[j]:\n",
    "                return j\n",
    "        else:\n",
    "            if row['CONTRIBUTING FACTOR VEHICLE 2'] in groupingDictionary_common[j]:\n",
    "                return j\n"
   ]
  },
  {
   "cell_type": "code",
   "execution_count": null,
   "metadata": {},
   "outputs": [],
   "source": [
    "df['CRASH DAYTIME'] = df.apply(custom_time_func,args=(time1,time2,time3,time4),axis=1)\n",
    "print(df['CRASH DAYTIME'])\n",
    "df['MAJOR ACCIDENT TYPE 1'] = df.apply(custom_acc_type, column=1 , axis=1)\n",
    "df4 = df.groupby(by='MAJOR ACCIDENT TYPE 1')"
   ]
  },
  {
   "cell_type": "code",
   "execution_count": null,
   "metadata": {},
   "outputs": [],
   "source": [
    "def plot_pie_chart(df,title):\n",
    "    plt.pie(df,labels = df.index,\n",
    "                    autopct = '%1.1f%%',shadow = True,\n",
    "                    startangle = 0,\n",
    "                    wedgeprops = {\"edgecolor\":\"black\",\n",
    "                            'linewidth': 2,\n",
    "                            'antialiased': True})\n",
    "    plt.axis('equal')  \n",
    "    plt.title(title)"
   ]
  },
  {
   "cell_type": "code",
   "execution_count": null,
   "metadata": {},
   "outputs": [],
   "source": [
    "val = 1\n",
    "for name, data_group in df4:\n",
    "    df3 = data_group.groupby(by='CRASH DAYTIME').count()\n",
    "    df3 = pd.Series(df3['CRASH DATE'])\n",
    "    plt.subplot(2,4,val)\n",
    "    plot_pie_chart(df3,name)\n",
    "    val+=1\n",
    "\n",
    "plt.show()\n"
   ]
  }
 ],
 "metadata": {
  "kernelspec": {
   "display_name": "base",
   "language": "python",
   "name": "python3"
  },
  "language_info": {
   "codemirror_mode": {
    "name": "ipython",
    "version": 3
   },
   "file_extension": ".py",
   "mimetype": "text/x-python",
   "name": "python",
   "nbconvert_exporter": "python",
   "pygments_lexer": "ipython3",
   "version": "3.10.9"
  },
  "orig_nbformat": 4
 },
 "nbformat": 4,
 "nbformat_minor": 2
}
